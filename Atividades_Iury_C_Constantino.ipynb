{
  "nbformat": 4,
  "nbformat_minor": 0,
  "metadata": {
    "colab": {
      "provenance": [],
      "authorship_tag": "ABX9TyMT9i21kGjH6X8zj5g6rFf8",
      "include_colab_link": true
    },
    "kernelspec": {
      "name": "python3",
      "display_name": "Python 3"
    },
    "language_info": {
      "name": "python"
    }
  },
  "cells": [
    {
      "cell_type": "markdown",
      "metadata": {
        "id": "view-in-github",
        "colab_type": "text"
      },
      "source": [
        "<a href=\"https://colab.research.google.com/github/IuryConstantino/Portf-lio-Iury/blob/main/Atividades_Iury_C_Constantino.ipynb\" target=\"_parent\"><img src=\"https://colab.research.google.com/assets/colab-badge.svg\" alt=\"Open In Colab\"/></a>"
      ]
    },
    {
      "cell_type": "code",
      "execution_count": null,
      "metadata": {
        "id": "nyqhST-iyNMK"
      },
      "outputs": [],
      "source": []
    },
    {
      "cell_type": "markdown",
      "source": [
        " 1-Faça um programa que recebe uma lista de números reais e exibe o\n",
        "seu maior elemento."
      ],
      "metadata": {
        "id": "z4TkrqSqyTXH"
      }
    },
    {
      "cell_type": "code",
      "source": [
        "def encontrar_maior_numero(lista):\n",
        "    if not lista:\n",
        "        return None\n",
        "\n",
        "    maior = lista[0]\n",
        "\n",
        "    for numero in lista:\n",
        "        if numero > maior:\n",
        "            maior = numero\n",
        "\n",
        "    return maior\n",
        "numeros = [1,2,4]\n",
        "\n",
        "maior_num = encontrar_maior_numero(numeros)\n",
        "\n",
        "if maior_num is not None:\n",
        "    print(\"O maior elemento da lista é:\", maior_num)\n",
        "else:\n",
        "    print(\"A lista está vazia.\")"
      ],
      "metadata": {
        "colab": {
          "base_uri": "https://localhost:8080/"
        },
        "id": "ZiHPeEGZyhFX",
        "outputId": "84704a19-5f8a-4e79-f44d-e4d284a34559"
      },
      "execution_count": 35,
      "outputs": [
        {
          "output_type": "stream",
          "name": "stdout",
          "text": [
            "O maior elemento da lista é: 4\n"
          ]
        }
      ]
    },
    {
      "cell_type": "markdown",
      "source": [
        "2- Faça um programa que recebe uma lista de números reais e exibe sua\n",
        "média\n"
      ],
      "metadata": {
        "id": "hyeOzMZTzUzq"
      }
    },
    {
      "cell_type": "code",
      "source": [
        "]def cal_media(lista):\n",
        "    if len(lista) == 0:\n",
        "        return 0\n",
        "\n",
        "    soma = sum(lista)\n",
        "    media = soma / len(lista)\n",
        "    return media\n",
        "\n",
        "\n",
        "numeros = []\n",
        "while True:\n",
        "    numero = input(\"Digite um número (ou 's' para calcular a Media ): \")\n",
        "    if numero.lower() == 's':\n",
        "        break\n",
        "    numeros.append(float(numero))\n",
        "\n",
        "media = cal_media(numeros)\n",
        "print(\"A média dos números é:\", media)"
      ],
      "metadata": {
        "colab": {
          "base_uri": "https://localhost:8080/"
        },
        "id": "mtExa3U5zmTW",
        "outputId": "8ec805eb-2cfb-4207-ce95-35c23f8e3458"
      },
      "execution_count": 37,
      "outputs": [
        {
          "output_type": "stream",
          "name": "stdout",
          "text": [
            "Digite um número (ou 's' para calcular a Media ): 20\n",
            "Digite um número (ou 's' para calcular a Media ): 10\n",
            "Digite um número (ou 's' para calcular a Media ): 20\n",
            "Digite um número (ou 's' para calcular a Media ): 40\n",
            "Digite um número (ou 's' para calcular a Media ): s\n",
            "A média dos números é: 22.5\n"
          ]
        }
      ]
    },
    {
      "cell_type": "markdown",
      "source": [
        " 3-Dada uma lista de números inteiros, faça um programa que responda a\n",
        "soma de todos os números pares e ímpares."
      ],
      "metadata": {
        "id": "juStblcO2JkH"
      }
    },
    {
      "cell_type": "code",
      "source": [
        "def cal_s_pares_imp(lista):\n",
        "    s_pares = sum(numero for numero in lista if numero % 2 == 0)\n",
        "    s_impares = sum(numero for numero in lista if numero % 2 != 0)\n",
        "    return s_pares, s_impares\n",
        "\n",
        "\n",
        "\n",
        "numeros = []\n",
        "while True:\n",
        "    numero = input(\"Digite um número (ou 's' para somar todos números pares e ímpares ): \")\n",
        "    if numero.lower() == 's':\n",
        "        break\n",
        "    numeros.append(float(numero))\n",
        "s_pares, s_impares = cal_s_pares_imp(numeros)\n",
        "\n",
        "print(\"Soma dos números pares:\", s_pares)\n",
        "print(\"Soma dos números ímpares:\", s_impares)"
      ],
      "metadata": {
        "colab": {
          "base_uri": "https://localhost:8080/"
        },
        "id": "Xob2297l2Nxo",
        "outputId": "e1116e1c-65ea-48f6-99a1-3f5d7ad09787"
      },
      "execution_count": 39,
      "outputs": [
        {
          "output_type": "stream",
          "name": "stdout",
          "text": [
            "Digite um número (ou 's' para somar todos números pares e ímpares ): 10\n",
            "Digite um número (ou 's' para somar todos números pares e ímpares ): 23\n",
            "Digite um número (ou 's' para somar todos números pares e ímpares ): 43\n",
            "Digite um número (ou 's' para somar todos números pares e ímpares ): s\n",
            "Soma dos números pares: 10.0\n",
            "Soma dos números ímpares: 66.0\n"
          ]
        }
      ]
    },
    {
      "cell_type": "markdown",
      "source": [
        "4-) Faça um programa que receba um número e exiba o fatorial desse\n",
        "número.\n"
      ],
      "metadata": {
        "id": "3W66OVtmTqBG"
      }
    },
    {
      "cell_type": "code",
      "source": [
        "def calr_fat(numero):\n",
        "    if numero == 0 or numero == 1:\n",
        "        return 1\n",
        "    else:\n",
        "        fatorial = 1\n",
        "        for i in range(2, numero + 1):\n",
        "            fatorial *= i\n",
        "        return fatorial\n",
        "\n",
        "numero = int(input(\"Digite um número: \"))\n",
        "fatorial = calr_fat(numero)\n",
        "print(\"O fatorial de\", numero, \"é\", fatorial)"
      ],
      "metadata": {
        "colab": {
          "base_uri": "https://localhost:8080/"
        },
        "id": "DBduJ5deTtnz",
        "outputId": "dd8f9314-de38-4537-f23c-f2941d24f063"
      },
      "execution_count": 14,
      "outputs": [
        {
          "output_type": "stream",
          "name": "stdout",
          "text": [
            "Digite um número: 12\n",
            "O fatorial de 12 é 479001600\n"
          ]
        }
      ]
    },
    {
      "cell_type": "markdown",
      "source": [
        "5-)Faça um programa que verifique se uma string possui caracteres\n",
        "duplicados.\n"
      ],
      "metadata": {
        "id": "clemZp74UtXu"
      }
    },
    {
      "cell_type": "code",
      "source": [
        "def caracteres_duplicados(string):\n",
        "    return len(set(string)) != len(string)\n",
        "\n",
        "string = input(\"Digite: \")\n",
        "\n",
        "if caracteres_duplicados(string):\n",
        "    print(\"Tem caracteres duplicados.\")\n",
        "else:\n",
        "    print(\"não tem caracteres duplicados.\")\n"
      ],
      "metadata": {
        "colab": {
          "base_uri": "https://localhost:8080/"
        },
        "id": "kppiKCKOUxEr",
        "outputId": "aee40212-6bc2-49d5-9725-0236426a0873"
      },
      "execution_count": 26,
      "outputs": [
        {
          "output_type": "stream",
          "name": "stdout",
          "text": [
            "Digite: ii\n",
            "Tem caracteres duplicados.\n"
          ]
        }
      ]
    },
    {
      "cell_type": "markdown",
      "source": [
        "6-)Desenvolva um programa que armazene quatro notas em uma lista e\n",
        "que apresente a média final. Caso a média seja igual ou superior a 7,\n",
        "apresentar a mensagem \"APROVADO\", caso contrário, armazenar a\n",
        "nota da prova final e recalcular a média. Caso a nova média seja igual\n",
        "superior a 5, apresentar a mensagem \"APROVADO\", caso contrário,\n",
        "apresentar a mensagem \"REPROVADO\""
      ],
      "metadata": {
        "id": "lEQ28X8qYUl5"
      }
    },
    {
      "cell_type": "code",
      "source": [
        "def calcular_media(notas):\n",
        "    total = sum(notas)\n",
        "    media = total / len(notas)\n",
        "    return media\n",
        "\n",
        "def verificar_aprovacao(media):\n",
        "    if media >= 7:\n",
        "        print(\"APROVADO\")\n",
        "    else:\n",
        "        prova_final = float(input(\"Digite a nota da prova final: \"))\n",
        "        nova_media = (media + prova_final) / 2\n",
        "        if nova_media >= 5:\n",
        "            print(\"APROVADO\")\n",
        "        else:\n",
        "            print(\"REPROVADO\")\n",
        "\n",
        "notas = []\n",
        "for i in range(4):\n",
        "    nota = float(input(\"Digite a nota: \"))\n",
        "    notas.append(nota)\n",
        "\n",
        "media_final = calcular_media(notas)\n",
        "verificar_aprovacao(media_final)\n"
      ],
      "metadata": {
        "colab": {
          "base_uri": "https://localhost:8080/"
        },
        "id": "8sAfunQuYamJ",
        "outputId": "1fa3b4a0-cf64-4319-8548-542fba5284fb"
      },
      "execution_count": 28,
      "outputs": [
        {
          "output_type": "stream",
          "name": "stdout",
          "text": [
            "Digite a nota: 7\n",
            "Digite a nota: 8\n",
            "Digite a nota: 8\n",
            "Digite a nota: 8\n",
            "APROVADO\n"
          ]
        }
      ]
    },
    {
      "cell_type": "markdown",
      "source": [
        "7-)Faça um programa que gere um número inteiro aleatório e que peça\n",
        "para o usuário adivinhar, informe se o número que o usuário digitou é\n",
        "menor ou maior que o número gerado. O jogo acaba quando o usuário\n",
        "acertar o número gerado"
      ],
      "metadata": {
        "id": "H_PHhdMuZj_P"
      }
    },
    {
      "cell_type": "code",
      "source": [
        "import random\n",
        "\n",
        "def adivinhar_numero():\n",
        "    numero_gerado = random.randint(1, 5)  # Gerador Aleatorio\n",
        "\n",
        "    tentativas = 0\n",
        "    acertou = False\n",
        "\n",
        "    while not acertou:\n",
        "        palpite = int(input(\"Digite um número: \"))\n",
        "\n",
        "\n",
        "        if palpite < numero_gerado:\n",
        "            print(\"O número é maior. Tente novamente!\")\n",
        "        elif palpite > numero_gerado:\n",
        "            print(\"O número é menor. Tente novamente!\")\n",
        "        else:\n",
        "            print(\"Parabéns! Você acertou o número.\")\n",
        "            acertou = True\n",
        "\n",
        "ad_numero()\n"
      ],
      "metadata": {
        "colab": {
          "base_uri": "https://localhost:8080/"
        },
        "id": "5RF3zYDQZtQ8",
        "outputId": "feb4845f-1766-40ec-ef61-82aa54a7bd39"
      },
      "execution_count": 33,
      "outputs": [
        {
          "output_type": "stream",
          "name": "stdout",
          "text": [
            "Digite um número: 3\n",
            "Parabéns! Você acertou o número.\n"
          ]
        }
      ]
    }
  ]
}